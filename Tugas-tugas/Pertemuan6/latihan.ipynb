{
 "cells": [
  {
   "cell_type": "markdown",
   "metadata": {},
   "source": [
    "# Latihan (1)\n",
    "\n",
    "Tuliskan (copy) Link URL, dimana dataset bunga Iris diunduh.\n",
    "Tuliskan pada cell di bawah ini."
   ]
  },
  {
   "cell_type": "code",
   "execution_count": null,
   "metadata": {},
   "outputs": [],
   "source": [
    "#Latihan (1)\n",
    "\n",
    "#Link URL tempat mengunduh dataset = .................... <isikan jawaban di sini>\n"
   ]
  },
  {
   "cell_type": "markdown",
   "metadata": {},
   "source": [
    "PENGGUNAAN LIBRARY PANDAS dan NUMPY\n",
    "\n",
    "Pada materi ini, peserta sudah mendapatkan pemahaman mengenai data dan dataset. Penggunaan library pada Python memberikan kemudahan dalam proses data understanding. Beberapa library yang digunakan adalah library Pandas dan Numpy."
   ]
  },
  {
   "cell_type": "markdown",
   "metadata": {},
   "source": [
    "# Latihan (2)\n",
    "\n",
    "Lakukan import Library Pandas dan Library Numpy"
   ]
  },
  {
   "cell_type": "code",
   "execution_count": 3,
   "metadata": {},
   "outputs": [],
   "source": [
    "#Latihan(2)\n",
    "#Import Library Pandas\n",
    "\n",
    "import pandas as pd\n",
    "import numpy as np\n",
    "\n",
    "#Import Library Numpy\n",
    "\n"
   ]
  },
  {
   "cell_type": "markdown",
   "metadata": {},
   "source": [
    "DATAFRAME\n",
    "\n",
    "DataFrame adalah struktur data 2 dimensi yang berbentuk tabular (mempunyai baris dan kolom). Hampir semua data tidak hanya memiliki 1 kolom tetapi lebih dari 1 kolom, sehingga lebih cocok menggunakan pandas DataFrame untuk mengolahnya.\n",
    "\n",
    "Penggunaan dataframe pada Python dengan menggunakan syntaks: df."
   ]
  },
  {
   "cell_type": "markdown",
   "metadata": {},
   "source": [
    "# Latihan (3)\n",
    "\n",
    "Panggil file (load dataset) dengan format .csv untuk dataset mengenai bunga Iris yang sudah peserta unduh dari Kaggle, dan akan disimpan di dalam dataframe df."
   ]
  },
  {
   "cell_type": "code",
   "execution_count": 5,
   "metadata": {},
   "outputs": [],
   "source": [
    "#latihan(3)\n",
    "#Panggil file (load file bernama Iris.csv) dan simpan dalam dataframe \n",
    "dataSource = pd.read_csv(\"/Users/muhamadmuchlis/Documents/kuliah/Repository/UEU_MACHINE_LEARNING/Tugas-tugas/Pertemuan6/Iris.csv\")\n"
   ]
  },
  {
   "cell_type": "markdown",
   "metadata": {},
   "source": [
    "# Telaah Data\n",
    "\n",
    "Pada telaah data, dapat dilakukan untuk mengetahui:\n",
    "- tipe data dari setiap kolom\n",
    "- deskripsi statistik data"
   ]
  },
  {
   "cell_type": "markdown",
   "metadata": {},
   "source": [
    "# Latihan (4)\n",
    "\n",
    "Tampilkan tipe data dari kolom yang ada pada dataset"
   ]
  },
  {
   "cell_type": "code",
   "execution_count": 8,
   "metadata": {},
   "outputs": [
    {
     "name": "stdout",
     "output_type": "stream",
     "text": [
      "Id                 int64\n",
      "SepalLengthCm    float64\n",
      "SepalWidthCm     float64\n",
      "PetalLengthCm    float64\n",
      "PetalWidthCm     float64\n",
      "Species           object\n",
      "dtype: object\n"
     ]
    }
   ],
   "source": [
    "#latihan(4)\n",
    "#Tampilkan tipe data dari kolom yang ada pada dataset\n",
    "\n",
    "print(dataSource.dtypes)"
   ]
  },
  {
   "cell_type": "markdown",
   "metadata": {},
   "source": [
    "# Latihan (5)\n",
    "\n",
    "Apakah tipe Data dari kolom berikut ini: (silakan diisi pada cell di bawah ini)\n"
   ]
  },
  {
   "cell_type": "code",
   "execution_count": null,
   "metadata": {},
   "outputs": [],
   "source": [
    "#Latihan (5)\n",
    "#Tipe Data dari kolom yang ada di dataset\n",
    "\n",
    "#Kolom  \"Id\" memiliki tipe data = int64\n",
    "#Kolom \"SepalLengthCm\" memiliki tipe data = float64 \n",
    "#Kolom \"Species\" memiliki tipe data = object "
   ]
  },
  {
   "cell_type": "markdown",
   "metadata": {},
   "source": [
    "# Latihan (6)\n",
    "\n",
    "Hitunglah ukuran (jumlah baris dan kolom) dari dataset. "
   ]
  },
  {
   "cell_type": "code",
   "execution_count": 15,
   "metadata": {},
   "outputs": [
    {
     "name": "stdout",
     "output_type": "stream",
     "text": [
      "150\n",
      "6\n"
     ]
    }
   ],
   "source": [
    "#Latihan (6)\n",
    "#Hitung ukuran (jumlah baris dan kolom) dari dataset\n",
    "\n",
    "print(len(dataSource))\n",
    "print(len(dataSource.columns))"
   ]
  },
  {
   "cell_type": "markdown",
   "metadata": {},
   "source": [
    "# Latihan (7)\n",
    "\n",
    "Berapakah jumlah baris, dan jumlah kolom pada dataset? (silakan diisi pada cell di bawah ini)"
   ]
  },
  {
   "cell_type": "code",
   "execution_count": null,
   "metadata": {},
   "outputs": [],
   "source": [
    "#Latihan (7)\n",
    "\n",
    "#Jumlah Baris pada dataset adalah = 150 \n",
    "\n",
    "#Jumlah kolom pada dataset adalah = 6"
   ]
  },
  {
   "cell_type": "markdown",
   "metadata": {},
   "source": [
    "# Latihan (8)\n",
    "\n",
    "Tampilkan data yang hanya berisi kolom \"Id\" dan kolom \"Species\" dalam bentuk dataframe."
   ]
  },
  {
   "cell_type": "code",
   "execution_count": 37,
   "metadata": {},
   "outputs": [
    {
     "name": "stdout",
     "output_type": "stream",
     "text": [
      "                                                        Id         Species\n",
      "Id  SepalLengthCm SepalWidthCm PetalLengthCm  PetalWidthCm         Species\n",
      "1   5.1           3.5          1.4                     0.2     Iris-setosa\n",
      "2   4.9           3.0          1.4                     0.2     Iris-setosa\n",
      "3   4.7           3.2          1.3                     0.2     Iris-setosa\n",
      "4   4.6           3.1          1.5                     0.2     Iris-setosa\n",
      "...                                                    ...             ...\n",
      "146 6.7           3.0          5.2                     2.3  Iris-virginica\n",
      "147 6.3           2.5          5.0                     1.9  Iris-virginica\n",
      "148 6.5           3.0          5.2                     2.0  Iris-virginica\n",
      "149 6.2           3.4          5.4                     2.3  Iris-virginica\n",
      "150 5.9           3.0          5.1                     1.8  Iris-virginica\n",
      "\n",
      "[151 rows x 2 columns]\n"
     ]
    }
   ],
   "source": [
    "#Latihan (8)\n",
    "#Tampilkan data untuk kolom \"Id\" dan kolom \"Species\" dalam bentuk dataframe\n",
    "#dataIdDanSpecies = pd.read_csv(\"/Users/muhamadmuchlis/Documents/kuliah/Repository/UEU_MACHINE_LEARNING/Tugas-tugas/Pertemuan6/Iris.csv\", names=['Id','Species'])\n",
    "#dataIdDanSpecies.drop(['SepaengthCm',\"SepalWidthCm','etalLengthCm\",'PetalWidthCm'])\n",
    "#dataIdDanSpecies.head()\n",
    "\n",
    "a = dataIdDanSpecies[['Id','Species']]\n",
    "print(a)\n",
    "#dfIdAndSpecies = pd.DataFrame(dataIdDanSpecies, columns=['Id', 'Species'])\n",
    "#dfIdAndSpecies.head()\n",
    "\n"
   ]
  },
  {
   "cell_type": "markdown",
   "metadata": {},
   "source": [
    "# Latihan (9)\n",
    "\n",
    "Tampilkan data dengan dataframe, dan data yang ditampilkan adalah data pada baris dengan indeks 0 (nol) sampai dengan indeks 9 (sembilan)"
   ]
  },
  {
   "cell_type": "code",
   "execution_count": null,
   "metadata": {},
   "outputs": [],
   "source": [
    "#Latihan (9)\n",
    "#Tampilkan data dengan dataframe, dan data yang ditampilkan adalah baris dengan indeks 0 (nol) sampai dengan indeks 9 (sembilan)\n",
    "\n",
    "..............."
   ]
  },
  {
   "cell_type": "markdown",
   "metadata": {},
   "source": [
    "# Latihan (10)\n",
    "\n",
    "Tampilkan data hanya kolom \"Id\" dan kolom \"Species\" dengan dataframe, dan yang ditampilkan adalah data pada baris dengan indeks 11 (sebelas) sampai dengan indeks 15 (limabelas)"
   ]
  },
  {
   "cell_type": "code",
   "execution_count": null,
   "metadata": {},
   "outputs": [],
   "source": [
    "#Latihan (10)\n",
    "#Tampilkan data hanya kolom \"Id\" dan kolom \"Species\", pada baris dengan indeks 0 (nol) sampai dengan indeks 9 (sembilan)\n",
    "\n",
    "..............."
   ]
  },
  {
   "cell_type": "markdown",
   "metadata": {},
   "source": [
    "# Latihan (11)\n",
    "\n",
    "Pada DataFrame dapat menampilkan beberapa baris pertama/terakhir dari dataset yang di load. Gunakan Method head() dan tail().\n",
    "\n",
    "Latihan: Tampilkan data pada 8 (delapan) baris pertama dari dataset, dengan dataframe."
   ]
  },
  {
   "cell_type": "code",
   "execution_count": null,
   "metadata": {},
   "outputs": [],
   "source": [
    "#Latihan (11)\n",
    "#Tampilkan data pada 8 (delapan) baris pertama dari dataset, dengan dataframe\n",
    "\n",
    "..............."
   ]
  },
  {
   "cell_type": "markdown",
   "metadata": {},
   "source": [
    "# Latihan (12)\n",
    "\n",
    "Tampilkan data pada 3 (tiga) baris terakhir dari dataset, dengan dataframe."
   ]
  },
  {
   "cell_type": "code",
   "execution_count": null,
   "metadata": {},
   "outputs": [],
   "source": [
    "#Latihan (12)\n",
    "#Tampilkan data pada 3 (tiga) baris terakhir dari dataset, dengan dataframe\n",
    "\n",
    "..............."
   ]
  },
  {
   "cell_type": "markdown",
   "metadata": {},
   "source": [
    "# Deskripsi Statistik Data\n",
    "\n",
    "DataFrame method describe() menampilkan statistik dasar setiap kolom data yang bertipe numerik, mencakup banyaknya data (count), rerata aritmetik (mean), simpangan baku (std), nilai terkecil (min), kuartil pertama (25%), kuartil kedua/median (50%), kuartil ketiga (75%), dan nilai terbesar (max)."
   ]
  },
  {
   "cell_type": "markdown",
   "metadata": {},
   "source": [
    "# Latihan (13)\n",
    "\n",
    "Hitung korelasi dari dataset."
   ]
  },
  {
   "cell_type": "code",
   "execution_count": null,
   "metadata": {},
   "outputs": [],
   "source": [
    "#Latihan (13)\n",
    "#Hitung korelasi dataset\n",
    "\n",
    "..............."
   ]
  },
  {
   "cell_type": "markdown",
   "metadata": {},
   "source": [
    "# Latihan (14)\n",
    "\n",
    "Berdasarkan pada perhitungan korelasi di Latihan (11), apakah yang dapat Bapak/Ibu simpulkan sementara? Silakan tuliskan simpulan sementara Bapak/Ibu pada cell di bawah ini."
   ]
  },
  {
   "cell_type": "code",
   "execution_count": null,
   "metadata": {},
   "outputs": [],
   "source": [
    "#latihan (14)\n",
    "#Simpulan Sementara Hasil Korelasi di latihan (13)\n",
    "\n",
    "#.......................\n",
    "#.......................\n",
    "#.......................\n",
    "#......................."
   ]
  },
  {
   "cell_type": "markdown",
   "metadata": {},
   "source": [
    "# Latihan (15)\n",
    "\n",
    "Hitung korelasi untuk kolom berikut ini: PetalLengthCm, PetalWidthCm"
   ]
  },
  {
   "cell_type": "code",
   "execution_count": null,
   "metadata": {},
   "outputs": [],
   "source": [
    "#Latihan (15)\n",
    "#Hitung korelasi dataset untuk kolom PetalLengthCm, PetalWidthCm\n",
    "\n",
    ".................."
   ]
  },
  {
   "cell_type": "markdown",
   "metadata": {},
   "source": [
    "# Latihan (16)\n",
    "\n",
    "Method \"describe\" secara otomatis melakukan komputasi statistik untuk semua continous variable. Secara default \"describe\" melakukan ignore terhadap variabel bertype objek.\n",
    "\n",
    "Komputasi statistik yang dilakukan terdiri dari: count, mean, std, min, max, 25%, 75%, max.\n",
    "\n",
    "Latihan: Gunakan method describe pada dataset yang sudah di load untuk semua continous variabel. (Dataset Iris.csv)"
   ]
  },
  {
   "cell_type": "code",
   "execution_count": null,
   "metadata": {},
   "outputs": [],
   "source": [
    "#Latihan (16)\n",
    "# Penggunaan Metode describe untuk komputasi statistik\n",
    "\n",
    "..............."
   ]
  },
  {
   "cell_type": "markdown",
   "metadata": {},
   "source": [
    "# Latihan (17)\n",
    "\n",
    "Gunakan method describe pada dataset yang sudah di load untuk data bertype objek. (Dataset Iris.csv)"
   ]
  },
  {
   "cell_type": "code",
   "execution_count": null,
   "metadata": {},
   "outputs": [],
   "source": [
    "#Latihan (17)\n",
    "#Gunakan method describe pada dataset yang sudah di load untuk data bertype objek\n",
    "\n",
    "..............."
   ]
  },
  {
   "cell_type": "markdown",
   "metadata": {},
   "source": [
    "# Latihan 18\n",
    "\n",
    "Gunakan method describe pada dataset yang sudah di load untuk semua type data (continous variabel dan type object)."
   ]
  },
  {
   "cell_type": "code",
   "execution_count": null,
   "metadata": {},
   "outputs": [],
   "source": [
    "#Latihan (18)\n",
    "#Gunakan method describe pada dataset yang sudah di load untuk semua type data\n",
    "\n",
    "..............."
   ]
  },
  {
   "cell_type": "markdown",
   "metadata": {},
   "source": [
    "# Latihan (19)\n",
    "\n",
    "Hitunglah nilai mean dari dataset."
   ]
  },
  {
   "cell_type": "code",
   "execution_count": null,
   "metadata": {},
   "outputs": [],
   "source": [
    "#Latihan (19)\n",
    "#Hitung nilai Mean dari dataset\n",
    "\n",
    "..............."
   ]
  },
  {
   "cell_type": "markdown",
   "metadata": {},
   "source": [
    "# Latihan (20)\n",
    "\n",
    "Hitung nilai mean dari dataset untuk kolom PetalLengthCm."
   ]
  },
  {
   "cell_type": "code",
   "execution_count": null,
   "metadata": {},
   "outputs": [],
   "source": [
    "#Latihan (20)\n",
    "#Hitung nilai Mean untuk kolom PetalLengthCm\n",
    "\n",
    "..............."
   ]
  },
  {
   "cell_type": "markdown",
   "metadata": {},
   "source": [
    "# Latihan (21)\n",
    "\n",
    "Carilah nilai minimal dari dataset untuk kolom SepalWidthCm."
   ]
  },
  {
   "cell_type": "code",
   "execution_count": null,
   "metadata": {},
   "outputs": [],
   "source": [
    "#Latihan (21)\n",
    "#Cari nilai minimal untuk kolom SepalWidthCm\n",
    "\n",
    "..............."
   ]
  },
  {
   "cell_type": "markdown",
   "metadata": {},
   "source": [
    "# Method Groupby\n",
    "\n",
    "Method groupby memungkinkan analisis dilakukan secara per kelompok nilai atribut tertentu."
   ]
  },
  {
   "cell_type": "markdown",
   "metadata": {},
   "source": [
    "# Latihan (22)\n",
    "\n",
    "Hitunglah nilai mean dari dataset untuk kolom SepalLengthCm per Species dengan menggunakan metode groupby."
   ]
  },
  {
   "cell_type": "code",
   "execution_count": null,
   "metadata": {},
   "outputs": [],
   "source": [
    "#Latihan (22)\n",
    "#Hitung nilai mean dari dataset untuk SepalLengthCm per Species dengan metode groupby\n",
    "\n",
    ".................."
   ]
  },
  {
   "cell_type": "markdown",
   "metadata": {},
   "source": [
    "# Method Value Count\n",
    "\n",
    "value_counts() menghasilkan frekuensi setiap nilai unik di dalam kolom, dan yang tertinggi count-nya adalah merupakan modus pada kolom tersebut."
   ]
  },
  {
   "cell_type": "markdown",
   "metadata": {},
   "source": [
    "# Latihan (23)\n",
    "\n",
    "Hitunglah frekuensi pada kolom 'Species' dengan menggunakan metode value_counts()."
   ]
  },
  {
   "cell_type": "code",
   "execution_count": null,
   "metadata": {},
   "outputs": [],
   "source": [
    "#Latihan (23)\n",
    "#Hitung frekuensi pada kolom 'Species' dengan menggunakan metode value_counts()\n",
    "\n",
    ".................."
   ]
  },
  {
   "cell_type": "markdown",
   "metadata": {},
   "source": [
    "# Latihan (24)\n",
    "\n",
    "Tampilkan perhitungan frekuensi pada kolom 'Species' dengan menggunakan metode value_counts() dalam bentuk dataframe."
   ]
  },
  {
   "cell_type": "code",
   "execution_count": null,
   "metadata": {},
   "outputs": [],
   "source": [
    "#Latihan (24)\n",
    "#Perhitungan frekuensi pada kolom 'Species' dengan menggunakan metode value_counts() dalam bentuk dataframe\n",
    "\n",
    ".................."
   ]
  },
  {
   "cell_type": "markdown",
   "metadata": {},
   "source": [
    "# Latihan (25)\n",
    "\n",
    "Hitunglah frekuensi pada kolom 'PetalLenghCm' dengan menggunakan metode value_counts() dan dalam bentuk dataframe."
   ]
  },
  {
   "cell_type": "code",
   "execution_count": null,
   "metadata": {},
   "outputs": [],
   "source": [
    "#Latihan (25)\n",
    "# Hitung frekuensi pada kolom 'PetalLenghCm' dengan menggunakan metode value_counts()\n",
    "\n",
    ".................."
   ]
  },
  {
   "cell_type": "markdown",
   "metadata": {},
   "source": [
    "# Latihan (26)\n",
    "\n",
    "Tampilkan frekuensi dari kolom \"PetalLengthCm\" dengan menggunakan method value_counts(). \n",
    "Ubah nama kolom hasil perhitungan sebagai berikut:\n",
    "- kolom dengan nama \"PetalLengthCm\", menjadi nama kolom yang baru yaitu: \"value_counts\"\n",
    "- kolom yang berisi nama indeks, menjadi nama kolom yang baru yaitu: \"PetalLengthCm\""
   ]
  },
  {
   "cell_type": "code",
   "execution_count": null,
   "metadata": {},
   "outputs": [],
   "source": [
    "#Latihan (26)\n",
    "#Tampilkan frekuensi dari kolom \"PetalLengthCm\" dengan menggunakan method value_counts() dan ubah nama kolom\n",
    "\n",
    "...............\n",
    "...............\n",
    "...............\n",
    "..............."
   ]
  },
  {
   "cell_type": "markdown",
   "metadata": {},
   "source": [
    "# Latihan (27)\n",
    "\n",
    "Berapakah nilai modus yang didapatkan pada kolom \"PetalLengthCm\". Silakan isi jawaban pada cell di bawah ini."
   ]
  },
  {
   "cell_type": "code",
   "execution_count": null,
   "metadata": {},
   "outputs": [],
   "source": [
    "#Latihan (27)\n",
    "\n",
    "#Nilai modus pada kolom \"PetalLengthCm\" adalah .............. untuk data ......... <isi jawaban di sini>"
   ]
  },
  {
   "cell_type": "markdown",
   "metadata": {},
   "source": [
    "## Semoga Latihan ini dapat memberikan manfaat ##\n"
   ]
  }
 ],
 "metadata": {
  "kernelspec": {
   "display_name": "Python 3 (ipykernel)",
   "language": "python",
   "name": "python3"
  },
  "language_info": {
   "codemirror_mode": {
    "name": "ipython",
    "version": 3
   },
   "file_extension": ".py",
   "mimetype": "text/x-python",
   "name": "python",
   "nbconvert_exporter": "python",
   "pygments_lexer": "ipython3",
   "version": "3.10.8"
  },
  "vscode": {
   "interpreter": {
    "hash": "916dbcbb3f70747c44a77c7bcd40155683ae19c65e1c03b4aa3499c5328201f1"
   }
  }
 },
 "nbformat": 4,
 "nbformat_minor": 4
}
